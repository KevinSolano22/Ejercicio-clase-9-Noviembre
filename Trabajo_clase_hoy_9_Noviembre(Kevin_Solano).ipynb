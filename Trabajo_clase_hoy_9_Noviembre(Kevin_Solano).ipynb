{
  "nbformat": 4,
  "nbformat_minor": 0,
  "metadata": {
    "colab": {
      "private_outputs": true,
      "provenance": [],
      "authorship_tag": "ABX9TyNHP+BIzZm5YpX76wvUQKcG",
      "include_colab_link": true
    },
    "kernelspec": {
      "name": "python3",
      "display_name": "Python 3"
    },
    "language_info": {
      "name": "python"
    }
  },
  "cells": [
    {
      "cell_type": "markdown",
      "metadata": {
        "id": "view-in-github",
        "colab_type": "text"
      },
      "source": [
        "<a href=\"https://colab.research.google.com/github/KevinSolano22/Ejercicio-clase-9-Noviembre/blob/main/Trabajo_clase_hoy_9_Noviembre(Kevin_Solano).ipynb\" target=\"_parent\"><img src=\"https://colab.research.google.com/assets/colab-badge.svg\" alt=\"Open In Colab\"/></a>"
      ]
    },
    {
      "cell_type": "markdown",
      "source": [
        "**Ejercicio:**Encuentre la función de transferencia (demostración matemática) para un circuito RLC paralelo (entrada: fuente de corriente AC, salida: corriente en inductor), con condiciones iniciales cero. Luego, utilizando la API de control de sympy, simular y graficar: i) diagrama de polos y ceros, ii) diagrama de bode iii) respuesta impulso, iv) respuesta escalón, v) respuesta rampa.\n",
        "\n",
        "**Solucion:**\n",
        "\n",
        "Para encontrar la función de transferencia de un circuito RLC paralelo con una fuente de corriente alterna (AC), puedes seguir estos pasos:\n",
        "\n",
        "Supongamos que la fuente de corriente alterna tiene una amplitud Im\n",
        "y una frecuencia angular w. Además, consideremos que el inductor tiene una inductancia L, el capacitor tiene una capacitancia C, y la resistencia tiene un valor R.\n",
        "\n",
        "La corriente en el inductor IL puede representarse como la diferencia de las corrientes a través del inductor del capacitor IC, y de la resistencia IR:\n",
        "\n",
        "IL=I-IC-IR\n",
        "\n",
        "\n",
        "Las corrientesIC y IR se pueden expresar en términos de la diferencia de fase entre la corriente y la tensión en el capacitor y la resistencia, respectivamente.\n",
        "\n",
        "La relación de fase entre la corriente y la tensión a través del capacitor es -π/2, y para la resistencia es 0.\n",
        "\n",
        "Entonces, la corriente en el inductor se puede expresar como:\n",
        "\n",
        "IL=I-IC-IR= I-jIwC-(I/jwR(=I(1-jwC-(1/jwR))\n",
        "\n",
        "La función de transferencia H(s) se define como la relación de Laplace de la salida sobre la entrada, donde s=jw. Por lo tanto:\n",
        "H(s)=(IL(s))/(I(s))=1/(I(1-jwC-(1/jwR)))\n"
      ],
      "metadata": {
        "id": "PnzVuckIJJJT"
      }
    },
    {
      "cell_type": "code",
      "execution_count": null,
      "metadata": {
        "id": "DV13lxgOD7-J"
      },
      "outputs": [],
      "source": [
        "import sympy as sp\n",
        "from scipy import signal\n",
        "import matplotlib.pyplot as plt\n",
        "import control as ctrl\n",
        "\n",
        "# Definir símbolos y parámetros del circuito\n",
        "s, R, L, C = sp.symbols('s R L C')\n",
        "I = 1  # Amplitud de la fuente de corriente alterna\n",
        "\n",
        "# Definir la función de transferencia\n",
        "H = 1 / (1 - s * C / R + s**2 * L * C)\n",
        "\n",
        "# Simulación y gráficos\n",
        "system = ctrl.TransferFunction([1], [L * C, R * C, 1])\n",
        "time, response = ctrl.step_response(system)\n",
        "frequencies, magnitude, phase = ctrl.bode(system)\n",
        "\n",
        "# Diagrama de polos y ceros\n",
        "ctrl.pzmap(system, plot=True)\n",
        "plt.title('Diagrama de Polos y Ceros')\n",
        "plt.show()\n",
        "\n",
        "# Diagrama de Bode\n",
        "plt.figure()\n",
        "plt.subplot(2, 1, 1)\n",
        "plt.semilogx(frequencies, magnitude)\n",
        "plt.title('Diagrama de Bode - Magnitud')\n",
        "plt.subplot(2, 1, 2)\n",
        "plt.semilogx(frequencies, phase)\n",
        "plt.title('Diagrama de Bode - Fase')\n",
        "plt.xlabel('Frecuencia [rad/s]')\n",
        "plt.show()\n",
        "\n",
        "# Respuesta al impulso\n",
        "time_impulse, response_impulse = ctrl.impulse_response(system)\n",
        "plt.plot(time_impulse, response_impulse)\n",
        "plt.title('Respuesta al Impulso')\n",
        "plt.xlabel('Tiempo [s]')\n",
        "plt.show()\n",
        "\n",
        "# Respuesta al escalón\n",
        "time_step, response_step = ctrl.step_response(system)\n",
        "plt.plot(time_step, response_step)\n",
        "plt.title('Respuesta al Escalón')\n",
        "plt.xlabel('Tiempo [s]')\n",
        "plt.show()\n",
        "\n",
        "# Respuesta a la rampa\n",
        "time_ramp, response_ramp = ctrl.step_response(system, T=time_step[-1], input='ramp')\n",
        "plt.plot(time_ramp, response_ramp)\n",
        "plt.title('Respuesta a la Rampa')\n",
        "plt.xlabel('Tiempo [s]')\n",
        "plt.show()\n",
        "\n"
      ]
    }
  ]
}